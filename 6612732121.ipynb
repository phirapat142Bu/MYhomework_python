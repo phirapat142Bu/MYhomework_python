{
 "cells": [
  {
   "cell_type": "code",
   "execution_count": 10,
   "id": "11f37284-0646-46be-b31d-7298434a22c4",
   "metadata": {
    "tags": []
   },
   "outputs": [
    {
     "name": "stdout",
     "output_type": "stream",
     "text": [
      " * \n",
      " *  * \n",
      " *  *  * \n",
      " *  *  *  * \n",
      " *  *  *  *  * \n"
     ]
    }
   ],
   "source": [
    "for i in range (1, 6,):\n",
    "    print(\" * \" * i)"
   ]
  },
  {
   "cell_type": "code",
   "execution_count": 105,
   "id": "13233dc7-4197-404f-8db5-2ef6df8246ea",
   "metadata": {
    "tags": []
   },
   "outputs": [
    {
     "name": "stdout",
     "output_type": "stream",
     "text": [
      "           *\n",
      "         * *\n",
      "       * * *\n",
      "     * * * *\n",
      "   * * * * *\n",
      " * * * * * *\n"
     ]
    }
   ],
   "source": [
    "num = 6\n",
    "end = num - 1\n",
    "for i in range(0, num):\n",
    "    for j in range(0, num):\n",
    "        if j >= end - i:\n",
    "            print(\" *\", end=\"\")\n",
    "        else:\n",
    "            print(\"  \",end=\"\")\n",
    "                \n",
    "    print("
   ]
  },
  {
   "cell_type": "code",
   "execution_count": 54,
   "id": "077dfd01-9445-47ff-8db1-2422818b91fe",
   "metadata": {
    "tags": []
   },
   "outputs": [
    {
     "name": "stdout",
     "output_type": "stream",
     "text": [
      "        * \n",
      "      * * \n",
      "    * * * \n",
      "  * * * * \n",
      "* * * * * \n"
     ]
    }
   ],
   "source": [
    "rows = 5 \n",
    "\n",
    "for i in range(1, rows + 1):\n",
    "        print(\" \" * (2 * (rows - i)), end=\"\")\n",
    "        print(\"* \" * i)"
   ]
  },
  {
   "cell_type": "code",
   "execution_count": 14,
   "id": "3fb4cfb8-bc68-436d-bfbf-31eb5c6ddbb1",
   "metadata": {
    "tags": []
   },
   "outputs": [
    {
     "name": "stdout",
     "output_type": "stream",
     "text": [
      " *  *  *  *  * \n",
      " *  *  *  * \n",
      " *  *  * \n",
      " *  * \n",
      " * \n"
     ]
    }
   ],
   "source": [
    "for i in range (5, 0, -1):\n",
    "    print (\" * \" * i)"
   ]
  },
  {
   "cell_type": "code",
   "execution_count": null,
   "id": "17ed6ccf-e437-4dda-ba52-614bdb606f89",
   "metadata": {},
   "outputs": [],
   "source": []
  }
 ],
 "metadata": {
  "kernelspec": {
   "display_name": "Python 3 (ipykernel)",
   "language": "python",
   "name": "python3"
  },
  "language_info": {
   "codemirror_mode": {
    "name": "ipython",
    "version": 3
   },
   "file_extension": ".py",
   "mimetype": "text/x-python",
   "name": "python",
   "nbconvert_exporter": "python",
   "pygments_lexer": "ipython3",
   "version": "3.11.5"
  }
 },
 "nbformat": 4,
 "nbformat_minor": 5
}
