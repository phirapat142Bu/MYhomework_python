{
 "cells": [
  {
   "cell_type": "markdown",
   "metadata": {},
   "source": [
    "# แบบฝึกหัด บทที่ 8 ฟังก์ชัน"
   ]
  },
  {
   "cell_type": "code",
   "execution_count": null,
   "metadata": {},
   "outputs": [],
   "source": [
    "\"\"\"\n",
    "ชื่อ - สกุล - รหัส\n",
    "\n",
    "\"\"\"\n",
    "print(\"พีรพัฒน์ สุทธปัญญา 6612732121\")"
   ]
  },
  {
   "cell_type": "markdown",
   "metadata": {},
   "source": [
    "## 1.จงเขียนฟังก์ชันเพื่อหาผลรวมของข้อมูลสมาชิกภายในลิสต์ เช่น"
   ]
  },
  {
   "cell_type": "code",
   "execution_count": 2,
   "metadata": {},
   "outputs": [
    {
     "name": "stdout",
     "output_type": "stream",
     "text": [
      "20\n"
     ]
    }
   ],
   "source": [
    "\"\"\"\n",
    "Sample List: (8, 2, 3, 0, 7)\n",
    "Expected Output: 20\n",
    "\"\"\"\n",
    "\n",
    "\"\"\"\n",
    "คำตอบ\n",
    "\"\"\"\n",
    "def sumlist(lt):\n",
    "    return sum(lt)\n",
    "i = [8, 2, 3, 7, 0]\n",
    "print(sumlist(i))\n",
    "\n"
   ]
  },
  {
   "cell_type": "markdown",
   "metadata": {},
   "source": [
    "## 2.จงเขียนโปรแกรมเพื่อให้ได้ผลลัพธ์ดังต่อไปนี้\n",
    "\n",
    "จงเขียนฟังก์ชันที่ทำหน้าที่กลับสตริงจากหน้าเป็นหลัง \n",
    "\n",
    "โดยมีการส่งอาร์กิวเมนต์ที่เป็นสติงไปให้ฟังก์ชันทำงาน เช่น"
   ]
  },
  {
   "cell_type": "code",
   "execution_count": 2,
   "metadata": {},
   "outputs": [
    {
     "name": "stdout",
     "output_type": "stream",
     "text": [
      "dcba4321\n"
     ]
    }
   ],
   "source": [
    "\"\"\"\n",
    "Argument String: \"1234abcd\"\n",
    "Expected Output: \"dcba4321\"\n",
    "\"\"\"\n",
    "\n",
    "\"\"\"\n",
    "คำตอบ\n",
    "\"\"\"\n",
    "\n",
    "def reverseStr(instr):\n",
    "    print(\"{}\".format(instr[::-1]))\n",
    "\n",
    "a = \"1234abcd\"\n",
    "reverseStr(a)"
   ]
  },
  {
   "cell_type": "code",
   "execution_count": 4,
   "metadata": {
    "tags": []
   },
   "outputs": [
    {
     "data": {
      "text/plain": [
       "'dcba4321'"
      ]
     },
     "execution_count": 4,
     "metadata": {},
     "output_type": "execute_result"
    }
   ],
   "source": [
    "\"\"\"\n",
    "Argument String: \"1234abcd\"\n",
    "Expected Output: \"dcba4321\"\n",
    "\"\"\"\n",
    "\n",
    "\"\"\"\n",
    "คำตอบ\n",
    "\"\"\"\n",
    "\n",
    "def reStr(str):\n",
    "    return str [::-1]\n",
    "\n",
    "a = \"1234abcd\"\n",
    "reStr(a)"
   ]
  },
  {
   "cell_type": "markdown",
   "metadata": {},
   "source": [
    "## 3.จงเขียนโปรแกรมเพื่อให้ได้ผลลัพธ์ดังต่อไปนี้\n",
    "\n",
    "จงเขียนฟังก์ชันที่ทำหน้าที่สำหรับการตรวจสอบค่าซ้ำของข้อมูลสมาชิกภายในลิสต์ \n",
    "\n",
    "โดยการส่งอาร์กิวเมนต์ที่เป็นลิสต์ไปให้ฟังก์ชันทำงาน และฟังก์ชันจะทำการส่งผลลัพธ์ได้จากการดำเนินการออกมา เช่น\n",
    "\n",
    "Argument List: [1,2,3,3,3,3,4,5]\n",
    "\n",
    "Output List: [1, 2, 3, 4, 5]\n",
    "\n",
    "หรือ \n",
    "\n",
    "Argument List: [‘a’, ‘b’, ‘c’, ‘c’, ‘c’, ‘a’, ‘d’, ‘e’, ‘e’]\n",
    "\n",
    "Output List: [‘a’, ‘b’, ‘c’, ‘d’, ‘e’]\n"
   ]
  },
  {
   "cell_type": "code",
   "execution_count": null,
   "metadata": {},
   "outputs": [],
   "source": [
    "\"\"\"\n",
    "คำตอบ\n",
    "1. กำหนด ให้ lt เป็นลลิสป้อนเข้า\n",
    "2. กำหนดให้ result เป็นลิสว่าง\n",
    "3. ดึงค่า สมาชิกออกจาก lt ตามลำดับ\n",
    "4. นำสมาชิกจาก lt เข้าไปเก็บ ใน resultg  เมื่อ \n",
    "สมาชิกนั้นยังไม่เคยปรากฏใน result \n",
    "5. วนทำข้อที่ 3 จนครบจำนวนสมาชชิก \n",
    "6. แสดงค่าใน result\n",
    "\"\"\"\n"
   ]
  },
  {
   "cell_type": "code",
   "execution_count": 61,
   "metadata": {
    "tags": []
   },
   "outputs": [
    {
     "name": "stdout",
     "output_type": "stream",
     "text": [
      "Argument List: [1, 2, 3, 3, 3, 3, 4, 5]\n",
      "Output List: [1, 2, 3, 4, 5]\n"
     ]
    }
   ],
   "source": [
    "def remove_Duplicate(lt):\n",
    "    result = []\n",
    "    \n",
    "    for item in lt:\n",
    "        if item not in result:\n",
    "            result.append(item)\n",
    "            \n",
    "    return result\n",
    "        \n",
    "lt = [1, 2, 3, 3, 3, 3, 4, 5]            \n",
    "result_list = remove_Duplicate(lt)\n",
    "\n",
    "print(\"Argument List:\", lt)\n",
    "print(\"Output List:\", result_list)"
   ]
  },
  {
   "cell_type": "markdown",
   "metadata": {},
   "source": [
    "## 4.\tจงเขียนโปรแกรมเพื่อให้ได้ผลลัพธ์ดังต่อไปนี้ \n",
    "\n",
    "จงเขียนฟังก์ชันซึ่งรับค่าอาร์กิวเมนต์ที่เป็นจำนวนเต็ม และทำการเช็คว่าค่าที่รับมา   \n",
    "\n",
    "เป็นจำนวนเฉพาะหรือไม่ ถ้าใช่จำนวนเฉพาะให้ส่งคืนค่า True ออกมาและถ้าไม่ให้คืนค่า False"
   ]
  },
  {
   "cell_type": "code",
   "execution_count": null,
   "metadata": {},
   "outputs": [],
   "source": [
    "\"\"\"\n",
    "คำตอบ\n",
    "\"\"\"\n",
    "def is_prime(num):\n",
    "    if num <= 1:\n",
    "        return False\n",
    "    for i in range(2, int(num**0.5) + 1):\n",
    "        if num % i == 0:\n",
    "            return False\n",
    "    return True\n",
    "\n",
    "\n",
    "number = int(input(\"ป้อนตัวเลข: \"))\n",
    "\n",
    "if is_prime_number(number):\n",
    "    print(\"True\")\n",
    "else:\n",
    "    print(\"False\")\n"
   ]
  },
  {
   "cell_type": "markdown",
   "metadata": {},
   "source": [
    "## 5. จงเขียนโปรแกรมเพื่อให้ได้ผลลัพธ์ดังต่อไปนี้ \n",
    "\n",
    "จงเขียนฟังก์ชันที่รับอาร์กิวเมนต์ที่เป็นสตริง ที่มีลักษณะเป็นคำผสมซึ่งเชื่อมด้วยเครื่องหมายยัติภังค์ ( - ) เมื่อฟังก์ชันรับค่าอาร์กิวเมนต์มาแล้วจะทำการสลับลำดับของคำใหม่      \n",
    "โดยเรียงลำดับตามตัวอักษร และส่งคืนค่าผลลัพธ์กลับคืนมาดังตัวอย่าง\n",
    "\n",
    "Argument : green-red-yellow-black-white\n",
    "\n",
    "Result : black-green-red-white-yellow\n"
   ]
  },
  {
   "cell_type": "code",
   "execution_count": null,
   "metadata": {},
   "outputs": [],
   "source": [
    "\"\"\"\n",
    "คำตอบ\n",
    "\"\"\"\n"
   ]
  },
  {
   "cell_type": "markdown",
   "metadata": {},
   "source": [
    "## 6.จงเขียนโปรแกรมเพื่อให้ได้ผลลัพธ์ดังต่อไปนี้\n",
    "\n",
    "จงเขียนฟังก์ชันที่ทำการรับสตริงภาษาอังกฤษทางอาร์กิวเมนต์ และทำการนับจำนวนตัวอักษรที่เป็นตัวใหญ่ และตัวเล็ก และทำการแสดงจำนวนออกมา เช่น\n",
    "\n",
    "Input String: 'The quick Brow Fox'\n",
    "\n",
    "Expected Output: \n",
    "\n",
    "No. of Upper case characters: 3\n",
    "\n",
    "No. of Lower case Characters: 12"
   ]
  },
  {
   "cell_type": "code",
   "execution_count": null,
   "metadata": {},
   "outputs": [],
   "source": [
    "\"\"\"\n",
    "คำตอบ\n",
    "\"\"\"\n",
    "\n"
   ]
  },
  {
   "cell_type": "markdown",
   "metadata": {},
   "source": [
    "## 7.จงเขียนโปรแกรมเพื่อให้ได้ผลลัพธ์ดังต่อไปนี้\n",
    "\n",
    "จงเขียนฟังก์ชันที่รับตัวเลขซึ่งเป็นจำนวนนาที \n",
    "\n",
    "และทำการคำนวณเพื่อแสดงผลในรูปแบบ ชั่วโมง : นาที"
   ]
  },
  {
   "cell_type": "code",
   "execution_count": null,
   "metadata": {},
   "outputs": [],
   "source": [
    "\"\"\"\n",
    "คำตอบ\n",
    "\"\"\"\n"
   ]
  },
  {
   "cell_type": "code",
   "execution_count": null,
   "metadata": {},
   "outputs": [],
   "source": []
  }
 ],
 "metadata": {
  "interpreter": {
   "hash": "40d3a090f54c6569ab1632332b64b2c03c39dcf918b08424e98f38b5ae0af88f"
  },
  "kernelspec": {
   "display_name": "Python 3 (ipykernel)",
   "language": "python",
   "name": "python3"
  },
  "language_info": {
   "codemirror_mode": {
    "name": "ipython",
    "version": 3
   },
   "file_extension": ".py",
   "mimetype": "text/x-python",
   "name": "python",
   "nbconvert_exporter": "python",
   "pygments_lexer": "ipython3",
   "version": "3.11.5"
  }
 },
 "nbformat": 4,
 "nbformat_minor": 4
}
