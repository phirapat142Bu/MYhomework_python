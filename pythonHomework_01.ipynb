{
 "cells": [
  {
   "cell_type": "code",
   "execution_count": 1,
   "id": "be6b0767-0f49-4f0c-bb3e-f8298715066c",
   "metadata": {
    "tags": []
   },
   "outputs": [
    {
     "name": "stdout",
     "output_type": "stream",
     "text": [
      "พีรพัฒน์ สุทธปัญญา 6612732121\n"
     ]
    }
   ],
   "source": [
    "print(\"พีรพัฒน์ สุทธปัญญา 6612732121\")"
   ]
  },
  {
   "cell_type": "code",
   "execution_count": null,
   "id": "1bbdd80d-b21b-4eba-9e08-756d5ef7b56f",
   "metadata": {},
   "outputs": [],
   "source": []
  }
 ],
 "metadata": {
  "kernelspec": {
   "display_name": "Python 3 (ipykernel)",
   "language": "python",
   "name": "python3"
  },
  "language_info": {
   "codemirror_mode": {
    "name": "ipython",
    "version": 3
   },
   "file_extension": ".py",
   "mimetype": "text/x-python",
   "name": "python",
   "nbconvert_exporter": "python",
   "pygments_lexer": "ipython3",
   "version": "3.11.5"
  }
 },
 "nbformat": 4,
 "nbformat_minor": 5
}
